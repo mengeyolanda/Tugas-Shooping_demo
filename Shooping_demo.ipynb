{
 "cells": [
  {
   "cell_type": "code",
   "execution_count": 1,
   "metadata": {},
   "outputs": [],
   "source": [
    "import numpy as np\n",
    "import pandas as pd\n",
    "import matplotlib.pyplot as plt"
   ]
  },
  {
   "cell_type": "code",
   "execution_count": 23,
   "metadata": {},
   "outputs": [],
   "source": [
    "data = pd.read_excel('C:/data/shooping_demo.xlsx')"
   ]
  },
  {
   "cell_type": "code",
   "execution_count": 8,
   "metadata": {},
   "outputs": [
    {
     "data": {
      "text/html": [
       "<div>\n",
       "<style scoped>\n",
       "    .dataframe tbody tr th:only-of-type {\n",
       "        vertical-align: middle;\n",
       "    }\n",
       "\n",
       "    .dataframe tbody tr th {\n",
       "        vertical-align: top;\n",
       "    }\n",
       "\n",
       "    .dataframe thead th {\n",
       "        text-align: right;\n",
       "    }\n",
       "</style>\n",
       "<table border=\"1\" class=\"dataframe\">\n",
       "  <thead>\n",
       "    <tr style=\"text-align: right;\">\n",
       "      <th></th>\n",
       "      <th>Day</th>\n",
       "      <th>Disscount</th>\n",
       "      <th>Free Delivery</th>\n",
       "      <th>Purchase</th>\n",
       "    </tr>\n",
       "  </thead>\n",
       "  <tbody>\n",
       "    <tr>\n",
       "      <th>0</th>\n",
       "      <td>Weekday</td>\n",
       "      <td>Yes</td>\n",
       "      <td>Yes</td>\n",
       "      <td>Yes</td>\n",
       "    </tr>\n",
       "    <tr>\n",
       "      <th>1</th>\n",
       "      <td>Weekday</td>\n",
       "      <td>Yes</td>\n",
       "      <td>Yes</td>\n",
       "      <td>Yes</td>\n",
       "    </tr>\n",
       "    <tr>\n",
       "      <th>2</th>\n",
       "      <td>Weekday</td>\n",
       "      <td>No</td>\n",
       "      <td>No</td>\n",
       "      <td>No</td>\n",
       "    </tr>\n",
       "    <tr>\n",
       "      <th>3</th>\n",
       "      <td>Holiday</td>\n",
       "      <td>Yes</td>\n",
       "      <td>Yes</td>\n",
       "      <td>Yes</td>\n",
       "    </tr>\n",
       "    <tr>\n",
       "      <th>4</th>\n",
       "      <td>Weekday</td>\n",
       "      <td>Yes</td>\n",
       "      <td>Yes</td>\n",
       "      <td>Yes</td>\n",
       "    </tr>\n",
       "  </tbody>\n",
       "</table>\n",
       "</div>"
      ],
      "text/plain": [
       "       Day Disscount Free Delivery Purchase\n",
       "0  Weekday       Yes           Yes      Yes\n",
       "1  Weekday       Yes           Yes      Yes\n",
       "2  Weekday        No            No       No\n",
       "3  Holiday       Yes           Yes      Yes\n",
       "4  Weekday       Yes           Yes      Yes"
      ]
     },
     "execution_count": 8,
     "metadata": {},
     "output_type": "execute_result"
    }
   ],
   "source": [
    "data.head()"
   ]
  },
  {
   "cell_type": "code",
   "execution_count": 18,
   "metadata": {},
   "outputs": [
    {
     "data": {
      "text/plain": [
       "(30, 4)"
      ]
     },
     "execution_count": 18,
     "metadata": {},
     "output_type": "execute_result"
    }
   ],
   "source": [
    "data.shape"
   ]
  },
  {
   "cell_type": "code",
   "execution_count": 24,
   "metadata": {},
   "outputs": [
    {
     "data": {
      "text/plain": [
       "Yes    24\n",
       "No      6\n",
       "Name: Purchase, dtype: int64"
      ]
     },
     "execution_count": 24,
     "metadata": {},
     "output_type": "execute_result"
    }
   ],
   "source": [
    "data['Purchase'].value_counts()"
   ]
  },
  {
   "cell_type": "code",
   "execution_count": 11,
   "metadata": {},
   "outputs": [],
   "source": [
    "PYes = 24/30\n",
    "PNo = 6/30"
   ]
  },
  {
   "cell_type": "code",
   "execution_count": 25,
   "metadata": {},
   "outputs": [
    {
     "name": "stdout",
     "output_type": "stream",
     "text": [
      "0.8\n"
     ]
    }
   ],
   "source": [
    "print(PYes)"
   ]
  },
  {
   "cell_type": "code",
   "execution_count": 26,
   "metadata": {},
   "outputs": [
    {
     "name": "stdout",
     "output_type": "stream",
     "text": [
      "0.2\n"
     ]
    }
   ],
   "source": [
    "print(PNo)"
   ]
  },
  {
   "cell_type": "code",
   "execution_count": 39,
   "metadata": {},
   "outputs": [
    {
     "data": {
      "text/html": [
       "<div>\n",
       "<style scoped>\n",
       "    .dataframe tbody tr th:only-of-type {\n",
       "        vertical-align: middle;\n",
       "    }\n",
       "\n",
       "    .dataframe tbody tr th {\n",
       "        vertical-align: top;\n",
       "    }\n",
       "\n",
       "    .dataframe thead th {\n",
       "        text-align: right;\n",
       "    }\n",
       "</style>\n",
       "<table border=\"1\" class=\"dataframe\">\n",
       "  <thead>\n",
       "    <tr style=\"text-align: right;\">\n",
       "      <th>Purchase</th>\n",
       "      <th>No</th>\n",
       "      <th>Yes</th>\n",
       "    </tr>\n",
       "    <tr>\n",
       "      <th>Day</th>\n",
       "      <th></th>\n",
       "      <th></th>\n",
       "    </tr>\n",
       "  </thead>\n",
       "  <tbody>\n",
       "    <tr>\n",
       "      <th>Holiday</th>\n",
       "      <td>3</td>\n",
       "      <td>8</td>\n",
       "    </tr>\n",
       "    <tr>\n",
       "      <th>Weekday</th>\n",
       "      <td>2</td>\n",
       "      <td>9</td>\n",
       "    </tr>\n",
       "    <tr>\n",
       "      <th>Weekend</th>\n",
       "      <td>1</td>\n",
       "      <td>7</td>\n",
       "    </tr>\n",
       "  </tbody>\n",
       "</table>\n",
       "</div>"
      ],
      "text/plain": [
       "Purchase  No  Yes\n",
       "Day              \n",
       "Holiday    3    8\n",
       "Weekday    2    9\n",
       "Weekend    1    7"
      ]
     },
     "execution_count": 39,
     "metadata": {},
     "output_type": "execute_result"
    }
   ],
   "source": [
    "pd.crosstab(data['Day'], data['Purchase'])"
   ]
  },
  {
   "cell_type": "code",
   "execution_count": 40,
   "metadata": {},
   "outputs": [
    {
     "name": "stdout",
     "output_type": "stream",
     "text": [
      "0.375\n"
     ]
    }
   ],
   "source": [
    "PHolidayNo = 3/6\n",
    "PWeekdayNo = 2/6\n",
    "PWeekendNo = 1/6\n",
    "\n",
    "PHolidayYes = 8/24\n",
    "PWeekdayYes = 9/24\n",
    "PWeekendYes = 7/24\n",
    "\n",
    "PHoliday = 11/30\n",
    "PWeekday = 11/30\n",
    "PWeekend = 8/30\n",
    "\n",
    "print(PWeekdayYes)"
   ]
  },
  {
   "cell_type": "code",
   "execution_count": 61,
   "metadata": {},
   "outputs": [],
   "source": [
    "# P(A|B) ?\n",
    "# P(B) = PWeekday\n",
    "# P(A) = No Buy\n",
    "# P(B|A) = P Weekend|No Buy"
   ]
  },
  {
   "cell_type": "code",
   "execution_count": 62,
   "metadata": {},
   "outputs": [
    {
     "name": "stdout",
     "output_type": "stream",
     "text": [
      "0.18181818181818182\n"
     ]
    }
   ],
   "source": [
    "PNoWeekday = (PWeekdayNo*PNo)/PWeekday\n",
    "print(PNoWeekday)"
   ]
  },
  {
   "cell_type": "code",
   "execution_count": 63,
   "metadata": {},
   "outputs": [
    {
     "name": "stdout",
     "output_type": "stream",
     "text": [
      "0.8181818181818183\n"
     ]
    }
   ],
   "source": [
    "PYesWeekday = (PWeekdayYes*PYes)/PWeekday\n",
    "print(PYesWeekday)"
   ]
  },
  {
   "cell_type": "code",
   "execution_count": 64,
   "metadata": {},
   "outputs": [
    {
     "name": "stdout",
     "output_type": "stream",
     "text": [
      "0.18181818181818182\n",
      "0.8181818181818183\n"
     ]
    }
   ],
   "source": [
    "# Probabilitas (Buy | Weekday) > dibanding dengan Probabilitas (No Buy | Weekday)\n",
    "print(PNoWeekday)\n",
    "print(PYesWeekday)"
   ]
  },
  {
   "cell_type": "code",
   "execution_count": 65,
   "metadata": {},
   "outputs": [],
   "source": [
    "# Kondisi B dimana\n",
    "# Day = Holiday\n",
    "# Discount = Yes\n",
    "# Free Delivery = Yes\n",
    "# A = No Buy\n",
    "# P(A|B) = P(NoBuy|DiscountYes, Free Delivery Yes, PDayHoliday)"
   ]
  },
  {
   "cell_type": "code",
   "execution_count": 66,
   "metadata": {},
   "outputs": [
    {
     "data": {
      "text/html": [
       "<div>\n",
       "<style scoped>\n",
       "    .dataframe tbody tr th:only-of-type {\n",
       "        vertical-align: middle;\n",
       "    }\n",
       "\n",
       "    .dataframe tbody tr th {\n",
       "        vertical-align: top;\n",
       "    }\n",
       "\n",
       "    .dataframe thead th {\n",
       "        text-align: right;\n",
       "    }\n",
       "</style>\n",
       "<table border=\"1\" class=\"dataframe\">\n",
       "  <thead>\n",
       "    <tr style=\"text-align: right;\">\n",
       "      <th>Purchase</th>\n",
       "      <th>No</th>\n",
       "      <th>Yes</th>\n",
       "    </tr>\n",
       "    <tr>\n",
       "      <th>Disscount</th>\n",
       "      <th></th>\n",
       "      <th></th>\n",
       "    </tr>\n",
       "  </thead>\n",
       "  <tbody>\n",
       "    <tr>\n",
       "      <th>No</th>\n",
       "      <td>5</td>\n",
       "      <td>5</td>\n",
       "    </tr>\n",
       "    <tr>\n",
       "      <th>Yes</th>\n",
       "      <td>1</td>\n",
       "      <td>19</td>\n",
       "    </tr>\n",
       "  </tbody>\n",
       "</table>\n",
       "</div>"
      ],
      "text/plain": [
       "Purchase   No  Yes\n",
       "Disscount         \n",
       "No          5    5\n",
       "Yes         1   19"
      ]
     },
     "execution_count": 66,
     "metadata": {},
     "output_type": "execute_result"
    }
   ],
   "source": [
    "pd.crosstab(data['Disscount'], data['Purchase'])"
   ]
  },
  {
   "cell_type": "code",
   "execution_count": 67,
   "metadata": {},
   "outputs": [],
   "source": [
    "PNoDiscountNo = 5/6\n",
    "PYesDiscountNo = 1/6\n",
    "\n",
    "PNoDiscountYes = 5/24\n",
    "PYesDiscountYes = 19/24\n",
    "\n",
    "PNoDiscount = 10/30\n",
    "PYesDiscount = 20/30\n",
    "\n"
   ]
  },
  {
   "cell_type": "code",
   "execution_count": 68,
   "metadata": {},
   "outputs": [
    {
     "data": {
      "text/html": [
       "<div>\n",
       "<style scoped>\n",
       "    .dataframe tbody tr th:only-of-type {\n",
       "        vertical-align: middle;\n",
       "    }\n",
       "\n",
       "    .dataframe tbody tr th {\n",
       "        vertical-align: top;\n",
       "    }\n",
       "\n",
       "    .dataframe thead th {\n",
       "        text-align: right;\n",
       "    }\n",
       "</style>\n",
       "<table border=\"1\" class=\"dataframe\">\n",
       "  <thead>\n",
       "    <tr style=\"text-align: right;\">\n",
       "      <th>Purchase</th>\n",
       "      <th>No</th>\n",
       "      <th>Yes</th>\n",
       "    </tr>\n",
       "    <tr>\n",
       "      <th>Free Delivery</th>\n",
       "      <th></th>\n",
       "      <th></th>\n",
       "    </tr>\n",
       "  </thead>\n",
       "  <tbody>\n",
       "    <tr>\n",
       "      <th>No</th>\n",
       "      <td>4</td>\n",
       "      <td>3</td>\n",
       "    </tr>\n",
       "    <tr>\n",
       "      <th>Yes</th>\n",
       "      <td>2</td>\n",
       "      <td>21</td>\n",
       "    </tr>\n",
       "  </tbody>\n",
       "</table>\n",
       "</div>"
      ],
      "text/plain": [
       "Purchase       No  Yes\n",
       "Free Delivery         \n",
       "No              4    3\n",
       "Yes             2   21"
      ]
     },
     "execution_count": 68,
     "metadata": {},
     "output_type": "execute_result"
    }
   ],
   "source": [
    "pd.crosstab(data['Free Delivery'], data['Purchase'])"
   ]
  },
  {
   "cell_type": "code",
   "execution_count": 69,
   "metadata": {},
   "outputs": [],
   "source": [
    "PNoDeliveryNo = 4/6\n",
    "PYesDeliveryNo = 2/6\n",
    "\n",
    "PNoDeliveryYes = 3/24\n",
    "PYesDeliveryYes = 21/24\n",
    "\n",
    "PNoDelivery = 7/30\n",
    "PYesDelivery = 23/30"
   ]
  },
  {
   "cell_type": "code",
   "execution_count": 70,
   "metadata": {},
   "outputs": [],
   "source": [
    "# Kondisi B dimana\n",
    "# Day = Holiday\n",
    "# Discount = Yes\n",
    "# Free Delivery = Yes\n",
    "# P(A) = NoBuy = PNo\n",
    "# P(B) = PYesDiscount, PYesDelivery, PHoliday\n",
    "# P(B|A)1 = (PHoliday|No Buy) = PHolidayNo\n",
    "# P(B|A)2 = (PYesDiscount| No Buy) = PYesDiscountNo\n",
    "# P(B|A)3 = (PYesDelivery| No Buy) = PYesDeliveryNo\n",
    "# P(B)1 = PHoliday\n",
    "# P(B)2 = PYesDiscount\n",
    "# P(B)3 = PYesDelivery\n",
    "\n",
    "# ditanyakan P(B|A) ?\n",
    "# Rumus\n",
    "# P(A|B) = P(B|A)* P(A)/ P(B)"
   ]
  },
  {
   "cell_type": "code",
   "execution_count": 71,
   "metadata": {},
   "outputs": [
    {
     "name": "stdout",
     "output_type": "stream",
     "text": [
      "0.029644268774703563\n"
     ]
    }
   ],
   "source": [
    "PNoBuy1 = ((PHolidayNo*PYesDiscountNo*PYesDeliveryNo)*PNo)/(PHoliday*PYesDiscount*PYesDelivery)\n",
    "print(PNoBuy1)"
   ]
  },
  {
   "cell_type": "code",
   "execution_count": 72,
   "metadata": {},
   "outputs": [],
   "source": [
    "# Kondisi B dimana\n",
    "# Day = Holiday\n",
    "# Discount = Yes\n",
    "# Free Delivery = Yes\n",
    "# P(A) = Buy = PYes\n",
    "# P(B) = PYesDiscount, PYesDelivery, PHoliday\n",
    "# P(B|A)1 = (PHoliday|Buy) = PHolidayYes\n",
    "# P(B|A)2 = (PYesDiscount|Buy) = PYesDiscountYes\n",
    "# P(B|A)3 = (PYesDelivery|Buy) = PYesDeliveryYes\n",
    "# P(B)1 = PHoliday\n",
    "# P(B)2 = PYesDiscount\n",
    "# P(B)3 = PYesDelivery\n",
    "\n",
    "# ditanyakan P(A|B) ?\n",
    "# Rumus\n",
    "# P(A|B) = P(B|A)* P(A)/P(B)\n"
   ]
  },
  {
   "cell_type": "code",
   "execution_count": 80,
   "metadata": {},
   "outputs": [
    {
     "name": "stdout",
     "output_type": "stream",
     "text": [
      "0.9856719367588933\n"
     ]
    }
   ],
   "source": [
    "PBuy2 = ((PHolidayYes*PYesDiscountYes*PYesDeliveryYes)* PYes) / (PHoliday*PYesDiscount*PYesDelivery)\n",
    "print(PBuy2)"
   ]
  },
  {
   "cell_type": "markdown",
   "metadata": {},
   "source": [
    "# probability of no Purchase = 0.029644268774703563\n",
    "# probability of Purchase = 0.9856719367588933"
   ]
  },
  {
   "cell_type": "code",
   "execution_count": 82,
   "metadata": {},
   "outputs": [
    {
     "name": "stdout",
     "output_type": "stream",
     "text": [
      "1.015316205533597\n"
     ]
    }
   ],
   "source": [
    "PSum = PNoBuy1 + PBuy2\n",
    "print(PSum)"
   ]
  },
  {
   "cell_type": "code",
   "execution_count": 83,
   "metadata": {},
   "outputs": [
    {
     "name": "stdout",
     "output_type": "stream",
     "text": [
      "97.08029197080292\n"
     ]
    }
   ],
   "source": [
    "PBuy = (PBuy2/PSum)*100\n",
    "print(PBuy)"
   ]
  },
  {
   "cell_type": "code",
   "execution_count": 84,
   "metadata": {},
   "outputs": [
    {
     "name": "stdout",
     "output_type": "stream",
     "text": [
      "3.009830648815011\n"
     ]
    }
   ],
   "source": [
    "PNoBuy = (PNoBuy1*PSum)*100\n",
    "print(PNoBuy)"
   ]
  },
  {
   "cell_type": "code",
   "execution_count": 85,
   "metadata": {},
   "outputs": [],
   "source": [
    "# TUGAS DATA MINING_Shooping Demo\n",
    "# a). P(Buy|Day = Weekday, Free Delivery = Yes, Discount = Yes)\n",
    "    # Day = Weekday\n",
    "    # Discount = Yes\n",
    "    # Free Delivery = Yes\n",
    "    # P(A) = Buy = PYes\n",
    "    # P(B) = PYesDiscount, PYesDelivery, PWeekday\n",
    "    # P(B|A)1 = (PWeekday|Buy) = PWeekdayYes\n",
    "    # P(B|A)2 = (PYesDiscount|Buy) = PYesDiscountYes\n",
    "    # P(B|A)3 = (PYesDelivery|Buy) = PYesDeliveryYes\n",
    "    # P(B)1 = PWeekday\n",
    "    # P(B)2 = PYesDiscount\n",
    "    # P(B)3 = PYesDelivery\n",
    "    "
   ]
  },
  {
   "cell_type": "code",
   "execution_count": 86,
   "metadata": {},
   "outputs": [
    {
     "name": "stdout",
     "output_type": "stream",
     "text": [
      "1.108880928853755\n"
     ]
    }
   ],
   "source": [
    "PBuy3 = ((PWeekdayYes * PYesDeliveryYes * PYesDiscountYes) * PYes)/(PWeekday * PYesDelivery * PYesDiscount)\n",
    "print(PBuy3)"
   ]
  },
  {
   "cell_type": "code",
   "execution_count": 87,
   "metadata": {},
   "outputs": [],
   "source": [
    "# b). P(Buy|Day = Weekday, Free Delivery = No, Discount = No)\n",
    "    # Day = Weekday\n",
    "    # Discount = No\n",
    "    # Free Delivery = No\n",
    "    # P(A) = Buy = PYes\n",
    "    # P(B) = PNoDiscount, PNoDelivery, PWeekday\n",
    "    # P(B|A)1 = (PWeekday|Buy) = PWeekdayYes\n",
    "    # P(B|A)2 = (PNoDiscount|Buy) = PNoDiscountYes\n",
    "    # P(B|A)3 = (PNoDelivery|Buy) = PNoDeliveryYes\n",
    "    # P(B)1 = PWeekday\n",
    "    # P(B)2 = PYesDiscount\n",
    "    #P(B)3 = PYesDelivery\n",
    "    "
   ]
  },
  {
   "cell_type": "code",
   "execution_count": 88,
   "metadata": {},
   "outputs": [
    {
     "name": "stdout",
     "output_type": "stream",
     "text": [
      "0.27394480519480524\n"
     ]
    }
   ],
   "source": [
    "PBuy4 = ((PWeekdayYes * PNoDeliveryYes * PNoDiscountYes) * PYes)/(PWeekday * PNoDelivery * PNoDiscount)\n",
    "print(PBuy4)"
   ]
  },
  {
   "cell_type": "code",
   "execution_count": 89,
   "metadata": {},
   "outputs": [],
   "source": [
    "# c). P(Not Buy|day = Weekday, Free Delivery = Yes, Discount = Yes)\n",
    "    # Day = Weekday\n",
    "    # Discount = Yes\n",
    "    # Delivery = Yes\n",
    "    # P(A) = No Buy = PNo\n",
    "    # P(B) = PYesDiscount, PYesDelivery, PWeekday\n",
    "    # P(B|A)1 = (PWeekday|No Buy) = PWeekday\n",
    "    # P(B|A)2 = (PYesDiscount|No Buy) = PYesDiscountNo\n",
    "    # P(B|A)3 = (PYesDelivery|No Buy) = PYesDeliveryNo\n",
    "    # P(B)1 = PWeekday\n",
    "    # P(B)2 = PYesDiscount\n",
    "    # P(B)3 = PYesDelivery\n",
    "    "
   ]
  },
  {
   "cell_type": "code",
   "execution_count": 92,
   "metadata": {},
   "outputs": [
    {
     "name": "stdout",
     "output_type": "stream",
     "text": [
      "0.019762845849802375\n"
     ]
    }
   ],
   "source": [
    "PNoBuy5 = ((PWeekdayNo * PYesDiscountNo * PYesDeliveryNo) * PNo)/(PWeekday * PYesDiscount * PYesDelivery)\n",
    "print(PNoBuy5)"
   ]
  },
  {
   "cell_type": "code",
   "execution_count": 93,
   "metadata": {},
   "outputs": [],
   "source": [
    "# d). P(Not Buy|day = Weekday, Free Delivery = No, Discount = No)\n",
    "    # Day = Weekday\n",
    "    # Discount = No\n",
    "    # Delivery = No\n",
    "    # P(A) = No Buy = PNo\n",
    "    # P(B) = PNoDiscount, PNoDelivery, PWeekday\n",
    "    # P(B|A)1 = (PWeekday|No Buy) = PWeekday\n",
    "    # P(B|A)2 = (PNoDiscount|No Buy) = PNoDiscountNo\n",
    "    # P(B|A)3 = (PNoDelivery|No Buy) = PNoDeliveryNo\n",
    "    # P(B)1 = PWeekday\n",
    "    # P(B)2 = PNoDiscount\n",
    "    # P(B)3 = PNoDelivery\n",
    "    "
   ]
  },
  {
   "cell_type": "code",
   "execution_count": 94,
   "metadata": {},
   "outputs": [
    {
     "name": "stdout",
     "output_type": "stream",
     "text": [
      "1.2987012987012987\n"
     ]
    }
   ],
   "source": [
    "PNoBuy6 = ((PWeekdayNo * PNoDiscountNo * PNoDeliveryNo) * PNo)/(PWeekday * PNoDiscount * PNoDelivery)\n",
    "print(PNoBuy6)"
   ]
  },
  {
   "cell_type": "code",
   "execution_count": 95,
   "metadata": {},
   "outputs": [],
   "source": [
    "# e). P(Buy|Day = Weekend, Free Delivery = Yes, Discount = Yes)\n",
    "    # Day = Weekend\n",
    "    # Discount = Yes\n",
    "    # Delivery = Yes\n",
    "    # P(A) = Buy = PYes\n",
    "    # P(B) = PYesDiscount, PYesDelivery, PWeekend\n",
    "    # P(B|A)1 = (PWeekend|Buy) = PWeekend\n",
    "    # P(B|A)2 = (PYesDiscount|Buy) = PYesDiscontYes\n",
    "    # P(B|A)3 = (PYesDelivery|Buy) = PYesDeliveryYes\n",
    "    # P(B)1 = PWeekend\n",
    "    # P(B)2 = PYesDiscount\n",
    "    # P(B)3 = PYesDelivery\n",
    "    "
   ]
  },
  {
   "cell_type": "code",
   "execution_count": 96,
   "metadata": {},
   "outputs": [
    {
     "name": "stdout",
     "output_type": "stream",
     "text": [
      "1.185886548913044\n"
     ]
    }
   ],
   "source": [
    "PBuy7 = ((PWeekendYes * PYesDiscountYes * PYesDeliveryYes) * PYes)/(PWeekend * PYesDiscount * PYesDelivery)\n",
    "print(PBuy7)"
   ]
  },
  {
   "cell_type": "code",
   "execution_count": 97,
   "metadata": {},
   "outputs": [],
   "source": [
    "# f). P(Buy|Day = Weekend, Free Delivery = No, Discount = No)\n",
    "    # Day = Weekday\n",
    "    # Free Delivery = No\n",
    "    # Discount = No\n",
    "    # P(A) = Buy = PYes\n",
    "    # P(B) = PNoDiscount, PNoDelivery, PWeekend\n",
    "    # P(B|A)1 = (PWeekend|Buy) = PWeekend\n",
    "    # P(B|A)2 = (PNoDiscount|Buy) = PNoDiscountYes\n",
    "    # P(B|A)3 = (PNoDelivery|No Buy) = PNoDeliveryYes\n",
    "    # P(B)1 = PWeekend\n",
    "    # P(B)2 = PNoDiscount\n",
    "    # P(B)3 = PNoDelivery\n",
    "    "
   ]
  },
  {
   "cell_type": "code",
   "execution_count": 99,
   "metadata": {},
   "outputs": [
    {
     "name": "stdout",
     "output_type": "stream",
     "text": [
      "0.29296875000000006\n"
     ]
    }
   ],
   "source": [
    "PBuy8 = ((PWeekendYes * PNoDiscountYes * PNoDeliveryYes) * PYes)/(PWeekend * PNoDiscount * PNoDelivery)\n",
    "print(PBuy8)"
   ]
  },
  {
   "cell_type": "code",
   "execution_count": 100,
   "metadata": {},
   "outputs": [],
   "source": [
    "# g). P(Not Buy|Day = Weekend, Free Delivery = Yes, Discount = Yes)\n",
    "    # Day = Weekend\n",
    "    # Discount = Yes\n",
    "    # Free Delivery = Yes\n",
    "    # P(A) = No Buy = PNo\n",
    "    # P(B) = PYesDiscount, PYesDelivery, PWeekend\n",
    "    # P(B|A)1 = (PWeekend|No Buy) = PWeekend\n",
    "    # P(B|A)2 = (PYesDiscount|No Buy) = PYesDiscountNo\n",
    "    # P(B|A)3 = (PYesDelivery| No Buy) = PYesDeliveryNo\n",
    "    # P(B)1 = PWeekend\n",
    "    # P(B)2 = PYesDiscount\n",
    "    # P(B)3 = PYesDelivery\n",
    "    "
   ]
  },
  {
   "cell_type": "code",
   "execution_count": 101,
   "metadata": {},
   "outputs": [
    {
     "name": "stdout",
     "output_type": "stream",
     "text": [
      "0.013586956521739134\n"
     ]
    }
   ],
   "source": [
    "PBuy9 = ((PWeekendNo * PYesDiscountNo * PYesDeliveryNo) * PNo)/(PWeekend * PYesDiscount * PYesDelivery)\n",
    "print(PBuy9)"
   ]
  },
  {
   "cell_type": "code",
   "execution_count": 102,
   "metadata": {},
   "outputs": [],
   "source": [
    "# h). P(Not Buy|Day = Weekend, Free Delivery = No, Discount = No)\n",
    "    # Day = Weekend\n",
    "    # Discount = No\n",
    "    # Free Delivery = No\n",
    "    # P(A) = No Buy = PNo\n",
    "    # P(B) = PNoDiscount, PNoDelivery, PWeekend\n",
    "    # P(B|A)1 = (PWeekend|No Buy) = PWeekend\n",
    "    # P(B|A)2 = (PNoDiscount|No Buy) = PNoDiscountNo\n",
    "    # P(B|A)3 = (PNoDelivery|No Buy) = PNoDeliveryNo\n",
    "    # P(B)1 = PWeekend\n",
    "    # P(B)2 = PNoDiscount\n",
    "    # P(B)3 = PNoDelivery\n",
    "    "
   ]
  },
  {
   "cell_type": "code",
   "execution_count": 104,
   "metadata": {},
   "outputs": [
    {
     "name": "stdout",
     "output_type": "stream",
     "text": [
      "0.8928571428571428\n"
     ]
    }
   ],
   "source": [
    "PNoBuy10 = ((PWeekendNo * PNoDiscountNo * PNoDeliveryNo) * PNo)/(PWeekend * PNoDiscount * PNoDelivery)\n",
    "print(PNoBuy10)"
   ]
  },
  {
   "cell_type": "code",
   "execution_count": null,
   "metadata": {},
   "outputs": [],
   "source": []
  }
 ],
 "metadata": {
  "kernelspec": {
   "display_name": "Python 3",
   "language": "python",
   "name": "python3"
  },
  "language_info": {
   "codemirror_mode": {
    "name": "ipython",
    "version": 3
   },
   "file_extension": ".py",
   "mimetype": "text/x-python",
   "name": "python",
   "nbconvert_exporter": "python",
   "pygments_lexer": "ipython3",
   "version": "3.7.6"
  }
 },
 "nbformat": 4,
 "nbformat_minor": 4
}
